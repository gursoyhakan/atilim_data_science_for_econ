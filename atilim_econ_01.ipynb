{
 "cells": [
  {
   "cell_type": "markdown",
   "metadata": {
    "id": "sLp2t8XC1WI4"
   },
   "source": [
    "# Basit komutlar\n",
    "## Basit aritmetik işlemler, yazdırma, değişken tanımlama\n",
    "\n",
    "# Python'a Giriş: Temel Yazım, Veri Yapıları ve Şartlı İşlemler\n",
    "\n",
    "## Bölüm 1: Python'a Giriş\n",
    "\"\"\"\n",
    "Python, okunabilirliği yüksek ve kolay öğrenilebilen bir programlama dilidir.\n",
    "Bu derste, Python'un temel yazım kurallarını, veri yapılarını ve şartlı işlemleri öğreneceğiz.\n",
    "\"\"\"\n",
    "\n",
    "# Bölüm 2: Veri Yapıları\n",
    "\"\"\"\n",
    "Python'da farklı veri türleri bulunmaktadır. En yaygın olanlar:\n",
    "- integer (tam sayılar),\n",
    "- float (ondalıklı sayılar),\n",
    "- string (metinler),\n",
    "- boolean (mantıksal doğru/yanlış değerler)\n",
    "\"\"\""
   ]
  },
  {
   "cell_type": "code",
   "execution_count": null,
   "metadata": {},
   "outputs": [],
   "source": [
    "# 2.1: Integer (Tam Sayılar)\n",
    "a = 10\n",
    "print(\"a değeri:\", a, \"ve veri tipi:\", type(a))"
   ]
  },
  {
   "cell_type": "code",
   "execution_count": null,
   "metadata": {},
   "outputs": [],
   "source": [
    "Yukarıda kullandığımız işlem bir atama işlemidir. \n",
    "Bilgisayar programlama dillerinde, = işareti matematiksel eşitlik anlamına değil atama anlamına gelir.\n",
    "Benzer atama ve aritmetik işlemler aşağıdadır."
   ]
  },
  {
   "cell_type": "code",
   "execution_count": null,
   "metadata": {},
   "outputs": [],
   "source": [
    "a = a + 5\n",
    "print(a)"
   ]
  },
  {
   "cell_type": "code",
   "execution_count": null,
   "metadata": {},
   "outputs": [],
   "source": [
    "a = a * 2\n",
    "print(a)"
   ]
  },
  {
   "cell_type": "code",
   "execution_count": null,
   "metadata": {},
   "outputs": [],
   "source": [
    "a = a/2 \n",
    "print(a)"
   ]
  },
  {
   "cell_type": "code",
   "execution_count": null,
   "metadata": {},
   "outputs": [],
   "source": [
    "a += 1\n",
    "print(a)"
   ]
  },
  {
   "cell_type": "code",
   "execution_count": null,
   "metadata": {},
   "outputs": [],
   "source": [
    "a -= 3\n",
    "print(a)"
   ]
  },
  {
   "cell_type": "code",
   "execution_count": null,
   "metadata": {
    "id": "_p7mRnkg0qaW"
   },
   "outputs": [],
   "source": [
    "# 2.2: Float (Ondalıklı Sayılar)\n",
    "b = 3.14\n",
    "print(\"b değeri:\", b, \"ve veri tipi:\", type(b))"
   ]
  },
  {
   "cell_type": "code",
   "execution_count": null,
   "metadata": {},
   "outputs": [],
   "source": [
    "b = b * 2\n",
    "print(b)"
   ]
  },
  {
   "cell_type": "code",
   "execution_count": null,
   "metadata": {},
   "outputs": [],
   "source": [
    "b = b / 3\n",
    "print(b)"
   ]
  },
  {
   "cell_type": "code",
   "execution_count": null,
   "metadata": {},
   "outputs": [],
   "source": [
    "b = b**2\n",
    "print(b)"
   ]
  },
  {
   "cell_type": "code",
   "execution_count": null,
   "metadata": {},
   "outputs": [],
   "source": [
    "# 2.3: String (Metin)\n",
    "c = \"Merhaba Dünya\"\n",
    "print(\"c değeri:\", c, \"ve veri tipi:\", type(c))\n"
   ]
  },
  {
   "cell_type": "code",
   "execution_count": null,
   "metadata": {},
   "outputs": [],
   "source": [
    "print(c[0])"
   ]
  },
  {
   "cell_type": "code",
   "execution_count": null,
   "metadata": {},
   "outputs": [],
   "source": [
    "c[0] = \"G\"\n",
    "print(c)"
   ]
  },
  {
   "cell_type": "code",
   "execution_count": null,
   "metadata": {},
   "outputs": [],
   "source": [
    "# 2.4: Boolean (Mantıksal Doğru/Yanlış)\n",
    "d = True\n",
    "print(\"d değeri:\", d, \"ve veri tipi:\", type(d))"
   ]
  },
  {
   "cell_type": "code",
   "execution_count": null,
   "metadata": {},
   "outputs": [],
   "source": [
    "print(d == True)"
   ]
  },
  {
   "cell_type": "code",
   "execution_count": null,
   "metadata": {},
   "outputs": [],
   "source": [
    "print(d or False)"
   ]
  },
  {
   "cell_type": "code",
   "execution_count": null,
   "metadata": {},
   "outputs": [],
   "source": [
    "print(d and False)"
   ]
  },
  {
   "cell_type": "markdown",
   "metadata": {},
   "source": [
    "# Bölüm 3: Şartlı İşlemler (If, Else, Elif)\n",
    "\"\"\"\n",
    "Şartlı işlemler, belirli bir koşula bağlı olarak farklı kod bloklarının çalışmasını sağlar.\n",
    "Python'da 'if', 'elif' ve 'else' yapılarıyla şartlı işlemler yazılır.\n",
    "\"\"\"\n"
   ]
  },
  {
   "cell_type": "code",
   "execution_count": null,
   "metadata": {},
   "outputs": [],
   "source": [
    "# 3.1: If Yapısı\n",
    "x = 5\n",
    "if x > 0:\n",
    "    print(\"x pozitif bir sayıdır.\")"
   ]
  },
  {
   "cell_type": "code",
   "execution_count": null,
   "metadata": {},
   "outputs": [],
   "source": [
    "# 3.2: Else Yapısı\n",
    "y = -1\n",
    "if y > 0:\n",
    "    print(\"y pozitif bir sayıdır.\")\n",
    "else:\n",
    "    print(\"y pozitif değildir.\")\n"
   ]
  },
  {
   "cell_type": "code",
   "execution_count": null,
   "metadata": {},
   "outputs": [],
   "source": [
    "# 3.3: Elif Yapısı\n",
    "z = 0\n",
    "if z > 0:\n",
    "    print(\"z pozitif bir sayıdır.\")\n",
    "elif z == 0:\n",
    "    print(\"z sıfırdır.\")\n",
    "else:\n",
    "    print(\"z negatif bir sayıdır.\")"
   ]
  },
  {
   "cell_type": "markdown",
   "metadata": {},
   "source": [
    "# Bölüm 4: Şartlı İşlemler ve Veri Yapıları\n",
    "\"\"\"\n",
    "Veri tiplerini ve şartlı işlemleri bir arada kullanarak çeşitli kontroller yapabiliriz.\n",
    "\"\"\""
   ]
  },
  {
   "cell_type": "code",
   "execution_count": null,
   "metadata": {},
   "outputs": [],
   "source": [
    "# 4.1: Veri tipi kontrolü\n",
    "veri = 3.14\n",
    "if type(veri) == int:\n",
    "    print(\"Veri bir tam sayıdır.\")\n",
    "elif type(veri) == float:\n",
    "    print(\"Veri bir ondalıklı sayıdır.\")\n",
    "else:\n",
    "    print(\"Veri başka bir türdedir.\")"
   ]
  }
 ],
 "metadata": {
  "colab": {
   "provenance": []
  },
  "kernelspec": {
   "display_name": "Python 3 (ipykernel)",
   "language": "python",
   "name": "python3"
  },
  "language_info": {
   "codemirror_mode": {
    "name": "ipython",
    "version": 3
   },
   "file_extension": ".py",
   "mimetype": "text/x-python",
   "name": "python",
   "nbconvert_exporter": "python",
   "pygments_lexer": "ipython3",
   "version": "3.11.1"
  }
 },
 "nbformat": 4,
 "nbformat_minor": 4
}
