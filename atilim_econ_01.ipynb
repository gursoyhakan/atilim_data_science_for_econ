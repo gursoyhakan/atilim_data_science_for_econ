{
 "cells": [
  {
   "cell_type": "markdown",
   "metadata": {
    "id": "sLp2t8XC1WI4"
   },
   "source": [
    "# Basit komutlar\n",
    "## Basit aritmetik işlemler, yazdırma, değişken tanımlama\n",
    "\n",
    "# Python'a Giriş: Temel Yazım, Veri Yapıları ve Şartlı İşlemler\n",
    "\n",
    "## Bölüm 1: Python'a Giriş\n",
    "\"\"\"\n",
    "Python, okunabilirliği yüksek ve kolay öğrenilebilen bir programlama dilidir.\n",
    "Bu derste, Python'un temel yazım kurallarını, veri yapılarını ve şartlı işlemleri öğreneceğiz.\n",
    "\"\"\"\n",
    "\n",
    "# Bölüm 2: Veri Yapıları\n",
    "\"\"\"\n",
    "Python'da farklı veri türleri bulunmaktadır. En yaygın olanlar:\n",
    "- integer (tam sayılar),\n",
    "- float (ondalıklı sayılar),\n",
    "- string (metinler),\n",
    "- boolean (mantıksal doğru/yanlış değerler)\n",
    "\"\"\""
   ]
  },
  {
   "cell_type": "code",
   "execution_count": 1,
   "metadata": {},
   "outputs": [
    {
     "name": "stdout",
     "output_type": "stream",
     "text": [
      "a değeri: 10 ve veri tipi: <class 'int'>\n"
     ]
    }
   ],
   "source": [
    "# 2.1: Integer (Tam Sayılar)\n",
    "a = 10\n",
    "print(\"a değeri:\", a, \"ve veri tipi:\", type(a))"
   ]
  },
  {
   "cell_type": "code",
   "execution_count": 2,
   "metadata": {
    "id": "_p7mRnkg0qaW"
   },
   "outputs": [
    {
     "name": "stdout",
     "output_type": "stream",
     "text": [
      "b değeri: 3.14 ve veri tipi: <class 'float'>\n"
     ]
    }
   ],
   "source": [
    "# 2.2: Float (Ondalıklı Sayılar)\n",
    "b = 3.14\n",
    "print(\"b değeri:\", b, \"ve veri tipi:\", type(b))"
   ]
  },
  {
   "cell_type": "code",
   "execution_count": 3,
   "metadata": {},
   "outputs": [
    {
     "name": "stdout",
     "output_type": "stream",
     "text": [
      "c değeri: Merhaba Dünya ve veri tipi: <class 'str'>\n"
     ]
    }
   ],
   "source": [
    "# 2.3: String (Metin)\n",
    "c = \"Merhaba Dünya\"\n",
    "print(\"c değeri:\", c, \"ve veri tipi:\", type(c))\n"
   ]
  },
  {
   "cell_type": "code",
   "execution_count": 4,
   "metadata": {},
   "outputs": [
    {
     "name": "stdout",
     "output_type": "stream",
     "text": [
      "d değeri: True ve veri tipi: <class 'bool'>\n"
     ]
    }
   ],
   "source": [
    "# 2.4: Boolean (Mantıksal Doğru/Yanlış)\n",
    "d = True\n",
    "print(\"d değeri:\", d, \"ve veri tipi:\", type(d))"
   ]
  },
  {
   "cell_type": "markdown",
   "metadata": {},
   "source": [
    "# Bölüm 3: Şartlı İşlemler (If, Else, Elif)\n",
    "\"\"\"\n",
    "Şartlı işlemler, belirli bir koşula bağlı olarak farklı kod bloklarının çalışmasını sağlar.\n",
    "Python'da 'if', 'elif' ve 'else' yapılarıyla şartlı işlemler yazılır.\n",
    "\"\"\"\n"
   ]
  },
  {
   "cell_type": "code",
   "execution_count": 5,
   "metadata": {},
   "outputs": [
    {
     "name": "stdout",
     "output_type": "stream",
     "text": [
      "x pozitif bir sayıdır.\n"
     ]
    }
   ],
   "source": [
    "# 3.1: If Yapısı\n",
    "x = 5\n",
    "if x > 0:\n",
    "    print(\"x pozitif bir sayıdır.\")"
   ]
  },
  {
   "cell_type": "code",
   "execution_count": 6,
   "metadata": {},
   "outputs": [
    {
     "name": "stdout",
     "output_type": "stream",
     "text": [
      "y pozitif değildir.\n"
     ]
    }
   ],
   "source": [
    "# 3.2: Else Yapısı\n",
    "y = -1\n",
    "if y > 0:\n",
    "    print(\"y pozitif bir sayıdır.\")\n",
    "else:\n",
    "    print(\"y pozitif değildir.\")\n"
   ]
  },
  {
   "cell_type": "code",
   "execution_count": 7,
   "metadata": {},
   "outputs": [
    {
     "name": "stdout",
     "output_type": "stream",
     "text": [
      "z sıfırdır.\n"
     ]
    }
   ],
   "source": [
    "# 3.3: Elif Yapısı\n",
    "z = 0\n",
    "if z > 0:\n",
    "    print(\"z pozitif bir sayıdır.\")\n",
    "elif z == 0:\n",
    "    print(\"z sıfırdır.\")\n",
    "else:\n",
    "    print(\"z negatif bir sayıdır.\")"
   ]
  },
  {
   "cell_type": "markdown",
   "metadata": {},
   "source": [
    "# Bölüm 4: Şartlı İşlemler ve Veri Yapıları\n",
    "\"\"\"\n",
    "Veri tiplerini ve şartlı işlemleri bir arada kullanarak çeşitli kontroller yapabiliriz.\n",
    "\"\"\""
   ]
  },
  {
   "cell_type": "code",
   "execution_count": 8,
   "metadata": {},
   "outputs": [
    {
     "name": "stdout",
     "output_type": "stream",
     "text": [
      "Veri bir ondalıklı sayıdır.\n"
     ]
    }
   ],
   "source": [
    "# 4.1: Veri tipi kontrolü\n",
    "veri = 3.14\n",
    "if type(veri) == int:\n",
    "    print(\"Veri bir tam sayıdır.\")\n",
    "elif type(veri) == float:\n",
    "    print(\"Veri bir ondalıklı sayıdır.\")\n",
    "else:\n",
    "    print(\"Veri başka bir türdedir.\")"
   ]
  }
 ],
 "metadata": {
  "colab": {
   "provenance": []
  },
  "kernelspec": {
   "display_name": "Python 3 (ipykernel)",
   "language": "python",
   "name": "python3"
  },
  "language_info": {
   "codemirror_mode": {
    "name": "ipython",
    "version": 3
   },
   "file_extension": ".py",
   "mimetype": "text/x-python",
   "name": "python",
   "nbconvert_exporter": "python",
   "pygments_lexer": "ipython3",
   "version": "3.11.1"
  }
 },
 "nbformat": 4,
 "nbformat_minor": 4
}
